{
 "cells": [
  {
   "cell_type": "markdown",
   "id": "b66c90bc",
   "metadata": {},
   "source": [
    "## Exploratory Data Analysis\n"
   ]
  }
 ],
 "metadata": {
  "kernelspec": {
   "display_name": ".venv",
   "language": "python",
   "name": "python3"
  },
  "language_info": {
   "name": "python",
   "version": "3.12.8"
  }
 },
 "nbformat": 4,
 "nbformat_minor": 5
}
