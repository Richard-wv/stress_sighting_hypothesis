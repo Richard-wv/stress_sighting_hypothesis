{
 "cells": [
  {
   "cell_type": "markdown",
   "id": "a6340765",
   "metadata": {},
   "source": [
    "# **The Stress-Sighting Hypothesis**\n",
    "## A Data-Driven Analysis of Global Events and Reports of the Unknown.\n",
    "\n",
    "**The Stress-Sighting Hypothesis** has the project goal of investigating whether there is a meaningful correlation between the frequency of reported UFO sightings and periods of heightened cultural, political or global stress, using historical event data and publicly reported sightings. \n"
   ]
  },
  {
   "cell_type": "markdown",
   "id": "54068032",
   "metadata": {},
   "source": [
    "## **User Story**\n",
    "Alex Holloway is an investigative journalist, known for in-depth features that combine cultural analysis with data storytelling. They work with both independent media outlets and major publishers, seeking to explore how society processes uncertainty — from political unrest to media myths.\n",
    "\n",
    "Alex is planning to write an article on how Global Stress Events impact the number of UFO sightings, and has asked us to conduct our analysis, using the publicly available NUFORC (National UFO Reporting Centre) UFO Sightings dataset found [here](https://www.kaggle.com/datasets/NUFORC/ufo-sightings/data)\n",
    "\n",
    "Ultimately, Alex is looking for us to produce a public-facing, data-driven dashboard designed to act as a reference point for their article.\n",
    "\n",
    "This project explores the potential relationship between reported UFO sightings and global stress events, not to investigate extraterrestrial phenomena, but to examine whether these sightings reflect underlying patterns of public anxiety, media influence, and cultural tension."
   ]
  },
  {
   "cell_type": "markdown",
   "id": "020bd970",
   "metadata": {},
   "source": [
    "![Alex Holloway – Persona Card](../images/alex_holloway_persona_card.png)"
   ]
  },
  {
   "cell_type": "markdown",
   "id": "dcd1b80e",
   "metadata": {},
   "source": [
    "### **Alex's Requirements:**\n",
    "\n",
    "- **Reveal Patterns**\n",
    "\n",
    "Alex needs to identify correlations between historical periods of stress and spikes in UFO reporting - fast, clearly and without technical issues. \n",
    "\n",
    "- **Narrative Context**\n",
    "\n",
    "They want to explore not just *when* things happened, but *why it matters.* Explanatory text and annotations support deeper storytelling.\n",
    "\n",
    "- **Usable Insights**\n",
    "\n",
    "Our charts and summaries must be easy to extract for use in articles or reports, including explanatory captions and legends.\n",
    "\n",
    "- **Trustworthy Structure**\n",
    "\n",
    "The data pipeline must be transparent, ethical and well-documented to ensure and maintain credibility in their journalistic work.\n",
    "\n",
    "### Value Proposition:\n",
    "Our Dashboard must empower users like Alex to:\n",
    "- Translate complex data into cultural insight\n",
    "- Frame journalistic stories with empirical evidence\n",
    "- Uncover social signals hiding in unconventional data\n",
    "- Offer the audience a grounded perspective on how fear, media, and uncertainty intersect."
   ]
  }
 ],
 "metadata": {
  "kernelspec": {
   "display_name": ".venv",
   "language": "python",
   "name": "python3"
  },
  "language_info": {
   "name": "python",
   "version": "3.12.8"
  }
 },
 "nbformat": 4,
 "nbformat_minor": 5
}
